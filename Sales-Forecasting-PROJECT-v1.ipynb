{
 "cells": [
  {
   "cell_type": "code",
   "execution_count": null,
   "id": "7cd5ff49",
   "metadata": {},
   "outputs": [],
   "source": []
  },
  {
   "cell_type": "code",
   "execution_count": 7,
   "id": "2cc99248",
   "metadata": {},
   "outputs": [],
   "source": [
    "from datetime import datetime, timedelta,date\n",
    "import pandas as pd\n",
    "%matplotlib inline\n",
    "import matplotlib.pyplot as plt\n",
    "import numpy as np\n",
    "\n",
    "#from __future__ import division\n",
    "\n",
    "import warnings\n",
    "warnings.filterwarnings(\"ignore\")\n",
    "\n",
    "# import plotly.plotly as py\n",
    "# import plotly.offline as pyoff\n",
    "# import plotly.graph_objs as go\n",
    "\n",
    "import tensorflow.keras\n",
    "\n",
    "import tensorflow as tf\n",
    "from tensorflow.keras.models import Sequential\n",
    "from tensorflow.keras.layers import LSTM\n",
    "from tensorflow.keras.layers import Dense\n",
    "\n",
    "# import keras\n",
    "# from keras.layers import Dense\n",
    "# from keras.models import Sequential\n",
    "# from keras.optimizers import Adam \n",
    "# from keras.callbacks import EarlyStopping\n",
    "# from keras.utils import np_utils\n",
    "# from keras.layers import LSTM\n",
    "from sklearn.model_selection import KFold, cross_val_score, train_test_split\n",
    "\n",
    "# #initiate plotly\n",
    "# pyoff.init_notebook_mode()\n"
   ]
  },
  {
   "cell_type": "code",
   "execution_count": 20,
   "id": "57b347b9",
   "metadata": {},
   "outputs": [
    {
     "data": {
      "text/html": [
       "<div>\n",
       "<style scoped>\n",
       "    .dataframe tbody tr th:only-of-type {\n",
       "        vertical-align: middle;\n",
       "    }\n",
       "\n",
       "    .dataframe tbody tr th {\n",
       "        vertical-align: top;\n",
       "    }\n",
       "\n",
       "    .dataframe thead th {\n",
       "        text-align: right;\n",
       "    }\n",
       "</style>\n",
       "<table border=\"1\" class=\"dataframe\">\n",
       "  <thead>\n",
       "    <tr style=\"text-align: right;\">\n",
       "      <th></th>\n",
       "      <th>date</th>\n",
       "      <th>sales</th>\n",
       "    </tr>\n",
       "  </thead>\n",
       "  <tbody>\n",
       "    <tr>\n",
       "      <th>0</th>\n",
       "      <td>01-05-2017</td>\n",
       "      <td>46800</td>\n",
       "    </tr>\n",
       "    <tr>\n",
       "      <th>1</th>\n",
       "      <td>01-06-2017</td>\n",
       "      <td>73800</td>\n",
       "    </tr>\n",
       "    <tr>\n",
       "      <th>2</th>\n",
       "      <td>01-07-2017</td>\n",
       "      <td>59219</td>\n",
       "    </tr>\n",
       "    <tr>\n",
       "      <th>3</th>\n",
       "      <td>01-08-2017</td>\n",
       "      <td>55980</td>\n",
       "    </tr>\n",
       "    <tr>\n",
       "      <th>4</th>\n",
       "      <td>01-09-2017</td>\n",
       "      <td>52200</td>\n",
       "    </tr>\n",
       "  </tbody>\n",
       "</table>\n",
       "</div>"
      ],
      "text/plain": [
       "         date  sales\n",
       "0  01-05-2017  46800\n",
       "1  01-06-2017  73800\n",
       "2  01-07-2017  59219\n",
       "3  01-08-2017  55980\n",
       "4  01-09-2017  52200"
      ]
     },
     "execution_count": 20,
     "metadata": {},
     "output_type": "execute_result"
    }
   ],
   "source": [
    "# read csv file\n",
    "import pandas as pd\n",
    "df_sales = pd.read_csv('C:\\\\Users\\\\Prashant\\\\Dropbox (Old)\\\\My PC (DESKTOP-GOS3J17)\\\\Desktop\\Sales.csv')\n",
    "\n",
    "\n",
    "df_sales.head()"
   ]
  },
  {
   "cell_type": "code",
   "execution_count": 21,
   "id": "7eeeed7d",
   "metadata": {},
   "outputs": [
    {
     "data": {
      "text/plain": [
       "(37, 2)"
      ]
     },
     "execution_count": 21,
     "metadata": {},
     "output_type": "execute_result"
    }
   ],
   "source": [
    "df_sales.shape"
   ]
  },
  {
   "cell_type": "code",
   "execution_count": 22,
   "id": "9b08f1ed",
   "metadata": {},
   "outputs": [
    {
     "name": "stdout",
     "output_type": "stream",
     "text": [
      "<class 'pandas.core.frame.DataFrame'>\n",
      "RangeIndex: 37 entries, 0 to 36\n",
      "Data columns (total 2 columns):\n",
      " #   Column  Non-Null Count  Dtype \n",
      "---  ------  --------------  ----- \n",
      " 0   date    37 non-null     object\n",
      " 1   sales   37 non-null     int64 \n",
      "dtypes: int64(1), object(1)\n",
      "memory usage: 720.0+ bytes\n"
     ]
    }
   ],
   "source": [
    "# #represent month in date field as its first day\n",
    "#df_sales['date'] = pd.to_datetime(df_sales['date'])\n",
    "# #convert date field from string to datetime\n",
    "# df_sales['date'] = pd.to_datetime(df_sales['date'])\n",
    "# df_sales['date'] = df_sales['date'].dt.year.astype('str') + '-' + df_sales['date'].dt.month.astype('str') + '-01'\n",
    "# df_sales['date'] = pd.to_datetime(df_sales['date'])\n",
    "# #groupby date and sum the sales\n",
    "# #df_sales = df_sales.groupby('date').sales.sum().reset_index()\n",
    "# df_sales.head()\n",
    "df_sales.info()"
   ]
  },
  {
   "cell_type": "code",
   "execution_count": 23,
   "id": "969b7173",
   "metadata": {},
   "outputs": [
    {
     "data": {
      "text/plain": [
       "[<matplotlib.lines.Line2D at 0x27973d14160>]"
      ]
     },
     "execution_count": 23,
     "metadata": {},
     "output_type": "execute_result"
    },
    {
     "data": {
      "image/png": "[encoded data removed]",
      "text/plain": [
       "<Figure size 432x288 with 1 Axes>"
      ]
     },
     "metadata": {
      "needs_background": "light"
     },
     "output_type": "display_data"
    }
   ],
   "source": [
    "df=df_sales[['date','sales']]\n",
    "df= df.set_index('date')\n",
    "\n",
    "plt.plot(df)\n"
   ]
  },
  {
   "cell_type": "code",
   "execution_count": 25,
   "id": "f12c23e0",
   "metadata": {},
   "outputs": [
    {
     "data": {
      "text/html": [
       "<div>\n",
       "<style scoped>\n",
       "    .dataframe tbody tr th:only-of-type {\n",
       "        vertical-align: middle;\n",
       "    }\n",
       "\n",
       "    .dataframe tbody tr th {\n",
       "        vertical-align: top;\n",
       "    }\n",
       "\n",
       "    .dataframe thead th {\n",
       "        text-align: right;\n",
       "    }\n",
       "</style>\n",
       "<table border=\"1\" class=\"dataframe\">\n",
       "  <thead>\n",
       "    <tr style=\"text-align: right;\">\n",
       "      <th></th>\n",
       "      <th>sales</th>\n",
       "    </tr>\n",
       "    <tr>\n",
       "      <th>date</th>\n",
       "      <th></th>\n",
       "    </tr>\n",
       "  </thead>\n",
       "  <tbody>\n",
       "    <tr>\n",
       "      <th>01-05-2017</th>\n",
       "      <td>46800</td>\n",
       "    </tr>\n",
       "  </tbody>\n",
       "</table>\n",
       "</div>"
      ],
      "text/plain": [
       "            sales\n",
       "date             \n",
       "01-05-2017  46800"
      ]
     },
     "execution_count": 25,
     "metadata": {},
     "output_type": "execute_result"
    }
   ],
   "source": [
    "df.head(1)"
   ]
  },
  {
   "cell_type": "code",
   "execution_count": 26,
   "id": "2a6524c8",
   "metadata": {},
   "outputs": [
    {
     "data": {
      "text/html": [
       "<div>\n",
       "<style scoped>\n",
       "    .dataframe tbody tr th:only-of-type {\n",
       "        vertical-align: middle;\n",
       "    }\n",
       "\n",
       "    .dataframe tbody tr th {\n",
       "        vertical-align: top;\n",
       "    }\n",
       "\n",
       "    .dataframe thead th {\n",
       "        text-align: right;\n",
       "    }\n",
       "</style>\n",
       "<table border=\"1\" class=\"dataframe\">\n",
       "  <thead>\n",
       "    <tr style=\"text-align: right;\">\n",
       "      <th></th>\n",
       "      <th>date</th>\n",
       "      <th>sales</th>\n",
       "      <th>prev_sales</th>\n",
       "      <th>diff</th>\n",
       "    </tr>\n",
       "  </thead>\n",
       "  <tbody>\n",
       "    <tr>\n",
       "      <th>1</th>\n",
       "      <td>01-06-2017</td>\n",
       "      <td>73800</td>\n",
       "      <td>46800.0</td>\n",
       "      <td>27000.0</td>\n",
       "    </tr>\n",
       "    <tr>\n",
       "      <th>2</th>\n",
       "      <td>01-07-2017</td>\n",
       "      <td>59219</td>\n",
       "      <td>73800.0</td>\n",
       "      <td>-14581.0</td>\n",
       "    </tr>\n",
       "    <tr>\n",
       "      <th>3</th>\n",
       "      <td>01-08-2017</td>\n",
       "      <td>55980</td>\n",
       "      <td>59219.0</td>\n",
       "      <td>-3239.0</td>\n",
       "    </tr>\n",
       "    <tr>\n",
       "      <th>4</th>\n",
       "      <td>01-09-2017</td>\n",
       "      <td>52200</td>\n",
       "      <td>55980.0</td>\n",
       "      <td>-3780.0</td>\n",
       "    </tr>\n",
       "    <tr>\n",
       "      <th>5</th>\n",
       "      <td>01-10-2017</td>\n",
       "      <td>58140</td>\n",
       "      <td>52200.0</td>\n",
       "      <td>5940.0</td>\n",
       "    </tr>\n",
       "    <tr>\n",
       "      <th>6</th>\n",
       "      <td>01-11-2017</td>\n",
       "      <td>54820</td>\n",
       "      <td>58140.0</td>\n",
       "      <td>-3320.0</td>\n",
       "    </tr>\n",
       "    <tr>\n",
       "      <th>7</th>\n",
       "      <td>01-12-2017</td>\n",
       "      <td>60480</td>\n",
       "      <td>54820.0</td>\n",
       "      <td>5660.0</td>\n",
       "    </tr>\n",
       "    <tr>\n",
       "      <th>8</th>\n",
       "      <td>01-01-2018</td>\n",
       "      <td>61380</td>\n",
       "      <td>60480.0</td>\n",
       "      <td>900.0</td>\n",
       "    </tr>\n",
       "    <tr>\n",
       "      <th>9</th>\n",
       "      <td>01-02-2018</td>\n",
       "      <td>59040</td>\n",
       "      <td>61380.0</td>\n",
       "      <td>-2340.0</td>\n",
       "    </tr>\n",
       "    <tr>\n",
       "      <th>10</th>\n",
       "      <td>01-03-2018</td>\n",
       "      <td>59400</td>\n",
       "      <td>59040.0</td>\n",
       "      <td>360.0</td>\n",
       "    </tr>\n",
       "  </tbody>\n",
       "</table>\n",
       "</div>"
      ],
      "text/plain": [
       "          date  sales  prev_sales     diff\n",
       "1   01-06-2017  73800     46800.0  27000.0\n",
       "2   01-07-2017  59219     73800.0 -14581.0\n",
       "3   01-08-2017  55980     59219.0  -3239.0\n",
       "4   01-09-2017  52200     55980.0  -3780.0\n",
       "5   01-10-2017  58140     52200.0   5940.0\n",
       "6   01-11-2017  54820     58140.0  -3320.0\n",
       "7   01-12-2017  60480     54820.0   5660.0\n",
       "8   01-01-2018  61380     60480.0    900.0\n",
       "9   01-02-2018  59040     61380.0  -2340.0\n",
       "10  01-03-2018  59400     59040.0    360.0"
      ]
     },
     "execution_count": 26,
     "metadata": {},
     "output_type": "execute_result"
    }
   ],
   "source": [
    "#create a new dataframe to model the difference\n",
    "\n",
    "df_diff = df_sales.copy()\n",
    "#add previous sales to the next row\n",
    "df_diff['prev_sales'] = df_diff['sales'].shift(1)\n",
    "#drop the null values and calculate the difference\n",
    "df_diff = df_diff.dropna()\n",
    "df_diff['diff'] = (df_diff['sales'] - df_diff['prev_sales'])\n",
    "df_diff.head(10)"
   ]
  },
  {
   "cell_type": "code",
   "execution_count": 27,
   "id": "6c701c3f",
   "metadata": {},
   "outputs": [
    {
     "data": {
      "text/plain": [
       "[<matplotlib.lines.Line2D at 0x27973ff67c0>]"
      ]
     },
     "execution_count": 27,
     "metadata": {},
     "output_type": "execute_result"
    },
    {
     "data": {
      "image/png": "[encoded data removed]",
      "text/plain": [
       "<Figure size 432x288 with 1 Axes>"
      ]
     },
     "metadata": {
      "needs_background": "light"
     },
     "output_type": "display_data"
    }
   ],
   "source": [
    "import seaborn as sns\n",
    "\n",
    "plt.plot( df_diff[\"date\"], df_diff[\"diff\"])"
   ]
  },
  {
   "cell_type": "code",
   "execution_count": 40,
   "id": "a1b9e950",
   "metadata": {},
   "outputs": [],
   "source": [
    "#create dataframe for transformation from time series to supervised\n",
    "\n",
    "df_supervised = df_diff.drop(['prev_sales'],axis=1)\n",
    "\n",
    "#adding lags\n",
    "for inc in range(1,13):\n",
    "    field_name = 'lag_' + str(inc)\n",
    "    df_supervised[field_name] = df_supervised['diff'].shift(inc)\n",
    "#drop null values\n",
    "df_supervised = df_supervised.dropna().reset_index(drop=True)"
   ]
  },
  {
   "cell_type": "code",
   "execution_count": 41,
   "id": "d4feff6b",
   "metadata": {},
   "outputs": [
    {
     "data": {
      "text/html": [
       "<div>\n",
       "<style scoped>\n",
       "    .dataframe tbody tr th:only-of-type {\n",
       "        vertical-align: middle;\n",
       "    }\n",
       "\n",
       "    .dataframe tbody tr th {\n",
       "        vertical-align: top;\n",
       "    }\n",
       "\n",
       "    .dataframe thead th {\n",
       "        text-align: right;\n",
       "    }\n",
       "</style>\n",
       "<table border=\"1\" class=\"dataframe\">\n",
       "  <thead>\n",
       "    <tr style=\"text-align: right;\">\n",
       "      <th></th>\n",
       "      <th>date</th>\n",
       "      <th>sales</th>\n",
       "      <th>diff</th>\n",
       "      <th>lag_1</th>\n",
       "      <th>lag_2</th>\n",
       "      <th>lag_3</th>\n",
       "      <th>lag_4</th>\n",
       "      <th>lag_5</th>\n",
       "      <th>lag_6</th>\n",
       "      <th>lag_7</th>\n",
       "      <th>lag_8</th>\n",
       "      <th>lag_9</th>\n",
       "      <th>lag_10</th>\n",
       "      <th>lag_11</th>\n",
       "      <th>lag_12</th>\n",
       "    </tr>\n",
       "  </thead>\n",
       "  <tbody>\n",
       "    <tr>\n",
       "      <th>0</th>\n",
       "      <td>01-06-2018</td>\n",
       "      <td>70875</td>\n",
       "      <td>-3105.0</td>\n",
       "      <td>14940.0</td>\n",
       "      <td>-360.0</td>\n",
       "      <td>360.0</td>\n",
       "      <td>-2340.0</td>\n",
       "      <td>900.0</td>\n",
       "      <td>5660.0</td>\n",
       "      <td>-3320.0</td>\n",
       "      <td>5940.0</td>\n",
       "      <td>-3780.0</td>\n",
       "      <td>-3239.0</td>\n",
       "      <td>-14581.0</td>\n",
       "      <td>27000.0</td>\n",
       "    </tr>\n",
       "    <tr>\n",
       "      <th>1</th>\n",
       "      <td>01-07-2018</td>\n",
       "      <td>45000</td>\n",
       "      <td>-25875.0</td>\n",
       "      <td>-3105.0</td>\n",
       "      <td>14940.0</td>\n",
       "      <td>-360.0</td>\n",
       "      <td>360.0</td>\n",
       "      <td>-2340.0</td>\n",
       "      <td>900.0</td>\n",
       "      <td>5660.0</td>\n",
       "      <td>-3320.0</td>\n",
       "      <td>5940.0</td>\n",
       "      <td>-3780.0</td>\n",
       "      <td>-3239.0</td>\n",
       "      <td>-14581.0</td>\n",
       "    </tr>\n",
       "    <tr>\n",
       "      <th>2</th>\n",
       "      <td>01-08-2018</td>\n",
       "      <td>71010</td>\n",
       "      <td>26010.0</td>\n",
       "      <td>-25875.0</td>\n",
       "      <td>-3105.0</td>\n",
       "      <td>14940.0</td>\n",
       "      <td>-360.0</td>\n",
       "      <td>360.0</td>\n",
       "      <td>-2340.0</td>\n",
       "      <td>900.0</td>\n",
       "      <td>5660.0</td>\n",
       "      <td>-3320.0</td>\n",
       "      <td>5940.0</td>\n",
       "      <td>-3780.0</td>\n",
       "      <td>-3239.0</td>\n",
       "    </tr>\n",
       "    <tr>\n",
       "      <th>3</th>\n",
       "      <td>01-09-2018</td>\n",
       "      <td>61920</td>\n",
       "      <td>-9090.0</td>\n",
       "      <td>26010.0</td>\n",
       "      <td>-25875.0</td>\n",
       "      <td>-3105.0</td>\n",
       "      <td>14940.0</td>\n",
       "      <td>-360.0</td>\n",
       "      <td>360.0</td>\n",
       "      <td>-2340.0</td>\n",
       "      <td>900.0</td>\n",
       "      <td>5660.0</td>\n",
       "      <td>-3320.0</td>\n",
       "      <td>5940.0</td>\n",
       "      <td>-3780.0</td>\n",
       "    </tr>\n",
       "    <tr>\n",
       "      <th>4</th>\n",
       "      <td>01-10-2018</td>\n",
       "      <td>69300</td>\n",
       "      <td>7380.0</td>\n",
       "      <td>-9090.0</td>\n",
       "      <td>26010.0</td>\n",
       "      <td>-25875.0</td>\n",
       "      <td>-3105.0</td>\n",
       "      <td>14940.0</td>\n",
       "      <td>-360.0</td>\n",
       "      <td>360.0</td>\n",
       "      <td>-2340.0</td>\n",
       "      <td>900.0</td>\n",
       "      <td>5660.0</td>\n",
       "      <td>-3320.0</td>\n",
       "      <td>5940.0</td>\n",
       "    </tr>\n",
       "    <tr>\n",
       "      <th>5</th>\n",
       "      <td>01-11-2018</td>\n",
       "      <td>59580</td>\n",
       "      <td>-9720.0</td>\n",
       "      <td>7380.0</td>\n",
       "      <td>-9090.0</td>\n",
       "      <td>26010.0</td>\n",
       "      <td>-25875.0</td>\n",
       "      <td>-3105.0</td>\n",
       "      <td>14940.0</td>\n",
       "      <td>-360.0</td>\n",
       "      <td>360.0</td>\n",
       "      <td>-2340.0</td>\n",
       "      <td>900.0</td>\n",
       "      <td>5660.0</td>\n",
       "      <td>-3320.0</td>\n",
       "    </tr>\n",
       "    <tr>\n",
       "      <th>6</th>\n",
       "      <td>01-12-2018</td>\n",
       "      <td>57420</td>\n",
       "      <td>-2160.0</td>\n",
       "      <td>-9720.0</td>\n",
       "      <td>7380.0</td>\n",
       "      <td>-9090.0</td>\n",
       "      <td>26010.0</td>\n",
       "      <td>-25875.0</td>\n",
       "      <td>-3105.0</td>\n",
       "      <td>14940.0</td>\n",
       "      <td>-360.0</td>\n",
       "      <td>360.0</td>\n",
       "      <td>-2340.0</td>\n",
       "      <td>900.0</td>\n",
       "      <td>5660.0</td>\n",
       "    </tr>\n",
       "    <tr>\n",
       "      <th>7</th>\n",
       "      <td>01-01-2019</td>\n",
       "      <td>87660</td>\n",
       "      <td>30240.0</td>\n",
       "      <td>-2160.0</td>\n",
       "      <td>-9720.0</td>\n",
       "      <td>7380.0</td>\n",
       "      <td>-9090.0</td>\n",
       "      <td>26010.0</td>\n",
       "      <td>-25875.0</td>\n",
       "      <td>-3105.0</td>\n",
       "      <td>14940.0</td>\n",
       "      <td>-360.0</td>\n",
       "      <td>360.0</td>\n",
       "      <td>-2340.0</td>\n",
       "      <td>900.0</td>\n",
       "    </tr>\n",
       "    <tr>\n",
       "      <th>8</th>\n",
       "      <td>01-02-2019</td>\n",
       "      <td>65700</td>\n",
       "      <td>-21960.0</td>\n",
       "      <td>30240.0</td>\n",
       "      <td>-2160.0</td>\n",
       "      <td>-9720.0</td>\n",
       "      <td>7380.0</td>\n",
       "      <td>-9090.0</td>\n",
       "      <td>26010.0</td>\n",
       "      <td>-25875.0</td>\n",
       "      <td>-3105.0</td>\n",
       "      <td>14940.0</td>\n",
       "      <td>-360.0</td>\n",
       "      <td>360.0</td>\n",
       "      <td>-2340.0</td>\n",
       "    </tr>\n",
       "    <tr>\n",
       "      <th>9</th>\n",
       "      <td>01-03-2019</td>\n",
       "      <td>73260</td>\n",
       "      <td>7560.0</td>\n",
       "      <td>-21960.0</td>\n",
       "      <td>30240.0</td>\n",
       "      <td>-2160.0</td>\n",
       "      <td>-9720.0</td>\n",
       "      <td>7380.0</td>\n",
       "      <td>-9090.0</td>\n",
       "      <td>26010.0</td>\n",
       "      <td>-25875.0</td>\n",
       "      <td>-3105.0</td>\n",
       "      <td>14940.0</td>\n",
       "      <td>-360.0</td>\n",
       "      <td>360.0</td>\n",
       "    </tr>\n",
       "  </tbody>\n",
       "</table>\n",
       "</div>"
      ],
      "text/plain": [
       "         date  sales     diff    lag_1    lag_2    lag_3    lag_4    lag_5  \\\n",
       "0  01-06-2018  70875  -3105.0  14940.0   -360.0    360.0  -2340.0    900.0   \n",
       "1  01-07-2018  45000 -25875.0  -3105.0  14940.0   -360.0    360.0  -2340.0   \n",
       "2  01-08-2018  71010  26010.0 -25875.0  -3105.0  14940.0   -360.0    360.0   \n",
       "3  01-09-2018  61920  -9090.0  26010.0 -25875.0  -3105.0  14940.0   -360.0   \n",
       "4  01-10-2018  69300   7380.0  -9090.0  26010.0 -25875.0  -3105.0  14940.0   \n",
       "5  01-11-2018  59580  -9720.0   7380.0  -9090.0  26010.0 -25875.0  -3105.0   \n",
       "6  01-12-2018  57420  -2160.0  -9720.0   7380.0  -9090.0  26010.0 -25875.0   \n",
       "7  01-01-2019  87660  30240.0  -2160.0  -9720.0   7380.0  -9090.0  26010.0   \n",
       "8  01-02-2019  65700 -21960.0  30240.0  -2160.0  -9720.0   7380.0  -9090.0   \n",
       "9  01-03-2019  73260   7560.0 -21960.0  30240.0  -2160.0  -9720.0   7380.0   \n",
       "\n",
       "     lag_6    lag_7    lag_8    lag_9   lag_10   lag_11   lag_12  \n",
       "0   5660.0  -3320.0   5940.0  -3780.0  -3239.0 -14581.0  27000.0  \n",
       "1    900.0   5660.0  -3320.0   5940.0  -3780.0  -3239.0 -14581.0  \n",
       "2  -2340.0    900.0   5660.0  -3320.0   5940.0  -3780.0  -3239.0  \n",
       "3    360.0  -2340.0    900.0   5660.0  -3320.0   5940.0  -3780.0  \n",
       "4   -360.0    360.0  -2340.0    900.0   5660.0  -3320.0   5940.0  \n",
       "5  14940.0   -360.0    360.0  -2340.0    900.0   5660.0  -3320.0  \n",
       "6  -3105.0  14940.0   -360.0    360.0  -2340.0    900.0   5660.0  \n",
       "7 -25875.0  -3105.0  14940.0   -360.0    360.0  -2340.0    900.0  \n",
       "8  26010.0 -25875.0  -3105.0  14940.0   -360.0    360.0  -2340.0  \n",
       "9  -9090.0  26010.0 -25875.0  -3105.0  14940.0   -360.0    360.0  "
      ]
     },
     "execution_count": 41,
     "metadata": {},
     "output_type": "execute_result"
    }
   ],
   "source": [
    "df_supervised.head(10)"
   ]
  },
  {
   "cell_type": "code",
   "execution_count": 42,
   "id": "5bd3509d",
   "metadata": {},
   "outputs": [
    {
     "data": {
      "text/html": [
       "<div>\n",
       "<style scoped>\n",
       "    .dataframe tbody tr th:only-of-type {\n",
       "        vertical-align: middle;\n",
       "    }\n",
       "\n",
       "    .dataframe tbody tr th {\n",
       "        vertical-align: top;\n",
       "    }\n",
       "\n",
       "    .dataframe thead th {\n",
       "        text-align: right;\n",
       "    }\n",
       "</style>\n",
       "<table border=\"1\" class=\"dataframe\">\n",
       "  <thead>\n",
       "    <tr style=\"text-align: right;\">\n",
       "      <th></th>\n",
       "      <th>sales</th>\n",
       "      <th>diff</th>\n",
       "      <th>lag_1</th>\n",
       "      <th>lag_2</th>\n",
       "      <th>lag_3</th>\n",
       "      <th>lag_4</th>\n",
       "      <th>lag_5</th>\n",
       "      <th>lag_6</th>\n",
       "      <th>lag_7</th>\n",
       "      <th>lag_8</th>\n",
       "      <th>lag_9</th>\n",
       "      <th>lag_10</th>\n",
       "      <th>lag_11</th>\n",
       "      <th>lag_12</th>\n",
       "    </tr>\n",
       "  </thead>\n",
       "  <tbody>\n",
       "    <tr>\n",
       "      <th>sales</th>\n",
       "      <td>1.000000</td>\n",
       "      <td>0.648581</td>\n",
       "      <td>0.037643</td>\n",
       "      <td>0.191608</td>\n",
       "      <td>-0.092001</td>\n",
       "      <td>-0.092673</td>\n",
       "      <td>-0.067723</td>\n",
       "      <td>-0.066703</td>\n",
       "      <td>0.083551</td>\n",
       "      <td>0.109048</td>\n",
       "      <td>0.013225</td>\n",
       "      <td>-0.040778</td>\n",
       "      <td>-0.098319</td>\n",
       "      <td>0.026260</td>\n",
       "    </tr>\n",
       "    <tr>\n",
       "      <th>diff</th>\n",
       "      <td>0.648581</td>\n",
       "      <td>1.000000</td>\n",
       "      <td>-0.484611</td>\n",
       "      <td>0.117901</td>\n",
       "      <td>-0.218721</td>\n",
       "      <td>0.006449</td>\n",
       "      <td>0.033245</td>\n",
       "      <td>-0.008483</td>\n",
       "      <td>0.118749</td>\n",
       "      <td>0.011709</td>\n",
       "      <td>-0.069426</td>\n",
       "      <td>-0.039280</td>\n",
       "      <td>-0.018962</td>\n",
       "      <td>0.060614</td>\n",
       "    </tr>\n",
       "    <tr>\n",
       "      <th>lag_1</th>\n",
       "      <td>0.037643</td>\n",
       "      <td>-0.484611</td>\n",
       "      <td>1.000000</td>\n",
       "      <td>-0.500861</td>\n",
       "      <td>0.104145</td>\n",
       "      <td>-0.202957</td>\n",
       "      <td>0.082179</td>\n",
       "      <td>0.012342</td>\n",
       "      <td>-0.021004</td>\n",
       "      <td>0.114750</td>\n",
       "      <td>-0.005489</td>\n",
       "      <td>-0.094400</td>\n",
       "      <td>-0.015353</td>\n",
       "      <td>0.025814</td>\n",
       "    </tr>\n",
       "    <tr>\n",
       "      <th>lag_2</th>\n",
       "      <td>0.191608</td>\n",
       "      <td>0.117901</td>\n",
       "      <td>-0.500861</td>\n",
       "      <td>1.000000</td>\n",
       "      <td>-0.506991</td>\n",
       "      <td>0.116441</td>\n",
       "      <td>-0.191369</td>\n",
       "      <td>0.067524</td>\n",
       "      <td>0.012862</td>\n",
       "      <td>-0.030369</td>\n",
       "      <td>0.114733</td>\n",
       "      <td>-0.009449</td>\n",
       "      <td>-0.067341</td>\n",
       "      <td>-0.035958</td>\n",
       "    </tr>\n",
       "    <tr>\n",
       "      <th>lag_3</th>\n",
       "      <td>-0.092001</td>\n",
       "      <td>-0.218721</td>\n",
       "      <td>0.104145</td>\n",
       "      <td>-0.506991</td>\n",
       "      <td>1.000000</td>\n",
       "      <td>-0.503140</td>\n",
       "      <td>0.150747</td>\n",
       "      <td>-0.209276</td>\n",
       "      <td>0.067694</td>\n",
       "      <td>0.005140</td>\n",
       "      <td>-0.030755</td>\n",
       "      <td>0.111223</td>\n",
       "      <td>0.017132</td>\n",
       "      <td>-0.080128</td>\n",
       "    </tr>\n",
       "    <tr>\n",
       "      <th>lag_4</th>\n",
       "      <td>-0.092673</td>\n",
       "      <td>0.006449</td>\n",
       "      <td>-0.202957</td>\n",
       "      <td>0.116441</td>\n",
       "      <td>-0.503140</td>\n",
       "      <td>1.000000</td>\n",
       "      <td>-0.607020</td>\n",
       "      <td>0.181529</td>\n",
       "      <td>-0.207065</td>\n",
       "      <td>0.080684</td>\n",
       "      <td>0.011287</td>\n",
       "      <td>-0.017586</td>\n",
       "      <td>0.071599</td>\n",
       "      <td>0.025770</td>\n",
       "    </tr>\n",
       "    <tr>\n",
       "      <th>lag_5</th>\n",
       "      <td>-0.067723</td>\n",
       "      <td>0.033245</td>\n",
       "      <td>0.082179</td>\n",
       "      <td>-0.191369</td>\n",
       "      <td>0.150747</td>\n",
       "      <td>-0.607020</td>\n",
       "      <td>1.000000</td>\n",
       "      <td>-0.580955</td>\n",
       "      <td>0.198414</td>\n",
       "      <td>-0.178827</td>\n",
       "      <td>0.094208</td>\n",
       "      <td>0.041313</td>\n",
       "      <td>-0.180375</td>\n",
       "      <td>0.154930</td>\n",
       "    </tr>\n",
       "    <tr>\n",
       "      <th>lag_6</th>\n",
       "      <td>-0.066703</td>\n",
       "      <td>-0.008483</td>\n",
       "      <td>0.012342</td>\n",
       "      <td>0.067524</td>\n",
       "      <td>-0.209276</td>\n",
       "      <td>0.181529</td>\n",
       "      <td>-0.580955</td>\n",
       "      <td>1.000000</td>\n",
       "      <td>-0.597227</td>\n",
       "      <td>0.186432</td>\n",
       "      <td>-0.191723</td>\n",
       "      <td>0.075496</td>\n",
       "      <td>0.106796</td>\n",
       "      <td>-0.178874</td>\n",
       "    </tr>\n",
       "    <tr>\n",
       "      <th>lag_7</th>\n",
       "      <td>0.083551</td>\n",
       "      <td>0.118749</td>\n",
       "      <td>-0.021004</td>\n",
       "      <td>0.012862</td>\n",
       "      <td>0.067694</td>\n",
       "      <td>-0.207065</td>\n",
       "      <td>0.198414</td>\n",
       "      <td>-0.597227</td>\n",
       "      <td>1.000000</td>\n",
       "      <td>-0.603413</td>\n",
       "      <td>0.189421</td>\n",
       "      <td>-0.188883</td>\n",
       "      <td>0.095315</td>\n",
       "      <td>0.075758</td>\n",
       "    </tr>\n",
       "    <tr>\n",
       "      <th>lag_8</th>\n",
       "      <td>0.109048</td>\n",
       "      <td>0.011709</td>\n",
       "      <td>0.114750</td>\n",
       "      <td>-0.030369</td>\n",
       "      <td>0.005140</td>\n",
       "      <td>0.080684</td>\n",
       "      <td>-0.178827</td>\n",
       "      <td>0.186432</td>\n",
       "      <td>-0.603413</td>\n",
       "      <td>1.000000</td>\n",
       "      <td>-0.611500</td>\n",
       "      <td>0.177204</td>\n",
       "      <td>-0.174374</td>\n",
       "      <td>0.100612</td>\n",
       "    </tr>\n",
       "    <tr>\n",
       "      <th>lag_9</th>\n",
       "      <td>0.013225</td>\n",
       "      <td>-0.069426</td>\n",
       "      <td>-0.005489</td>\n",
       "      <td>0.114733</td>\n",
       "      <td>-0.030755</td>\n",
       "      <td>0.011287</td>\n",
       "      <td>0.094208</td>\n",
       "      <td>-0.191723</td>\n",
       "      <td>0.189421</td>\n",
       "      <td>-0.611500</td>\n",
       "      <td>1.000000</td>\n",
       "      <td>-0.608068</td>\n",
       "      <td>0.209107</td>\n",
       "      <td>-0.194421</td>\n",
       "    </tr>\n",
       "    <tr>\n",
       "      <th>lag_10</th>\n",
       "      <td>-0.040778</td>\n",
       "      <td>-0.039280</td>\n",
       "      <td>-0.094400</td>\n",
       "      <td>-0.009449</td>\n",
       "      <td>0.111223</td>\n",
       "      <td>-0.017586</td>\n",
       "      <td>0.041313</td>\n",
       "      <td>0.075496</td>\n",
       "      <td>-0.188883</td>\n",
       "      <td>0.177204</td>\n",
       "      <td>-0.608068</td>\n",
       "      <td>1.000000</td>\n",
       "      <td>-0.595811</td>\n",
       "      <td>0.157686</td>\n",
       "    </tr>\n",
       "    <tr>\n",
       "      <th>lag_11</th>\n",
       "      <td>-0.098319</td>\n",
       "      <td>-0.018962</td>\n",
       "      <td>-0.015353</td>\n",
       "      <td>-0.067341</td>\n",
       "      <td>0.017132</td>\n",
       "      <td>0.071599</td>\n",
       "      <td>-0.180375</td>\n",
       "      <td>0.106796</td>\n",
       "      <td>0.095315</td>\n",
       "      <td>-0.174374</td>\n",
       "      <td>0.209107</td>\n",
       "      <td>-0.595811</td>\n",
       "      <td>1.000000</td>\n",
       "      <td>-0.601435</td>\n",
       "    </tr>\n",
       "    <tr>\n",
       "      <th>lag_12</th>\n",
       "      <td>0.026260</td>\n",
       "      <td>0.060614</td>\n",
       "      <td>0.025814</td>\n",
       "      <td>-0.035958</td>\n",
       "      <td>-0.080128</td>\n",
       "      <td>0.025770</td>\n",
       "      <td>0.154930</td>\n",
       "      <td>-0.178874</td>\n",
       "      <td>0.075758</td>\n",
       "      <td>0.100612</td>\n",
       "      <td>-0.194421</td>\n",
       "      <td>0.157686</td>\n",
       "      <td>-0.601435</td>\n",
       "      <td>1.000000</td>\n",
       "    </tr>\n",
       "  </tbody>\n",
       "</table>\n",
       "</div>"
      ],
      "text/plain": [
       "           sales      diff     lag_1     lag_2     lag_3     lag_4     lag_5  \\\n",
       "sales   1.000000  0.648581  0.037643  0.191608 -0.092001 -0.092673 -0.067723   \n",
       "diff    0.648581  1.000000 -0.484611  0.117901 -0.218721  0.006449  0.033245   \n",
       "lag_1   0.037643 -0.484611  1.000000 -0.500861  0.104145 -0.202957  0.082179   \n",
       "lag_2   0.191608  0.117901 -0.500861  1.000000 -0.506991  0.116441 -0.191369   \n",
       "lag_3  -0.092001 -0.218721  0.104145 -0.506991  1.000000 -0.503140  0.150747   \n",
       "lag_4  -0.092673  0.006449 -0.202957  0.116441 -0.503140  1.000000 -0.607020   \n",
       "lag_5  -0.067723  0.033245  0.082179 -0.191369  0.150747 -0.607020  1.000000   \n",
       "lag_6  -0.066703 -0.008483  0.012342  0.067524 -0.209276  0.181529 -0.580955   \n",
       "lag_7   0.083551  0.118749 -0.021004  0.012862  0.067694 -0.207065  0.198414   \n",
       "lag_8   0.109048  0.011709  0.114750 -0.030369  0.005140  0.080684 -0.178827   \n",
       "lag_9   0.013225 -0.069426 -0.005489  0.114733 -0.030755  0.011287  0.094208   \n",
       "lag_10 -0.040778 -0.039280 -0.094400 -0.009449  0.111223 -0.017586  0.041313   \n",
       "lag_11 -0.098319 -0.018962 -0.015353 -0.067341  0.017132  0.071599 -0.180375   \n",
       "lag_12  0.026260  0.060614  0.025814 -0.035958 -0.080128  0.025770  0.154930   \n",
       "\n",
       "           lag_6     lag_7     lag_8     lag_9    lag_10    lag_11    lag_12  \n",
       "sales  -0.066703  0.083551  0.109048  0.013225 -0.040778 -0.098319  0.026260  \n",
       "diff   -0.008483  0.118749  0.011709 -0.069426 -0.039280 -0.018962  0.060614  \n",
       "lag_1   0.012342 -0.021004  0.114750 -0.005489 -0.094400 -0.015353  0.025814  \n",
       "lag_2   0.067524  0.012862 -0.030369  0.114733 -0.009449 -0.067341 -0.035958  \n",
       "lag_3  -0.209276  0.067694  0.005140 -0.030755  0.111223  0.017132 -0.080128  \n",
       "lag_4   0.181529 -0.207065  0.080684  0.011287 -0.017586  0.071599  0.025770  \n",
       "lag_5  -0.580955  0.198414 -0.178827  0.094208  0.041313 -0.180375  0.154930  \n",
       "lag_6   1.000000 -0.597227  0.186432 -0.191723  0.075496  0.106796 -0.178874  \n",
       "lag_7  -0.597227  1.000000 -0.603413  0.189421 -0.188883  0.095315  0.075758  \n",
       "lag_8   0.186432 -0.603413  1.000000 -0.611500  0.177204 -0.174374  0.100612  \n",
       "lag_9  -0.191723  0.189421 -0.611500  1.000000 -0.608068  0.209107 -0.194421  \n",
       "lag_10  0.075496 -0.188883  0.177204 -0.608068  1.000000 -0.595811  0.157686  \n",
       "lag_11  0.106796  0.095315 -0.174374  0.209107 -0.595811  1.000000 -0.601435  \n",
       "lag_12 -0.178874  0.075758  0.100612 -0.194421  0.157686 -0.601435  1.000000  "
      ]
     },
     "execution_count": 42,
     "metadata": {},
     "output_type": "execute_result"
    }
   ],
   "source": [
    "df_supervised.corr()"
   ]
  },
  {
   "cell_type": "code",
   "execution_count": 43,
   "id": "abc2da78",
   "metadata": {},
   "outputs": [
    {
     "name": "stdout",
     "output_type": "stream",
     "text": [
      "0.31701891173988317\n"
     ]
    }
   ],
   "source": [
    "# Import statsmodels.formula.api\n",
    "import statsmodels.formula.api as smf\n",
    "# Define the regression formula\n",
    "model = smf.ols(formula='diff ~ lag_1+lag_2+lag_3+lag_4+lag_5+lag_6+lag_7+lag_8+lag_9', data=df_supervised)\n",
    "# Fit the regression\n",
    "model_fit = model.fit()\n",
    "# Extract the adjusted r-squared\n",
    "regression_adj_rsq = model_fit.rsquared_adj\n",
    "print(regression_adj_rsq)"
   ]
  },
  {
   "cell_type": "code",
   "execution_count": 72,
   "id": "7739d532",
   "metadata": {},
   "outputs": [],
   "source": [
    "#import MinMaxScaler and create a new dataframe for LSTM model\n",
    "\n",
    "from sklearn.preprocessing import MinMaxScaler\n",
    "\n",
    "df_model = df_supervised.drop(['sales','date'],axis=1)\n",
    "\n",
    "#split train and test set\n",
    "train_set, test_set = df_model[0:-10].values, df_model[-10:].values"
   ]
  },
  {
   "cell_type": "code",
   "execution_count": 73,
   "id": "45a68e0a",
   "metadata": {},
   "outputs": [
    {
     "data": {
      "text/plain": [
       "(14, 13)"
      ]
     },
     "execution_count": 73,
     "metadata": {},
     "output_type": "execute_result"
    }
   ],
   "source": [
    "train_set.shape"
   ]
  },
  {
   "cell_type": "code",
   "execution_count": 74,
   "id": "6bcda421",
   "metadata": {},
   "outputs": [
    {
     "data": {
      "text/plain": [
       "(10, 13)"
      ]
     },
     "execution_count": 74,
     "metadata": {},
     "output_type": "execute_result"
    }
   ],
   "source": [
    "test_set.shape"
   ]
  },
  {
   "cell_type": "code",
   "execution_count": 75,
   "id": "784023b3",
   "metadata": {},
   "outputs": [],
   "source": [
    "#apply Min Max Scaler\n",
    "\n",
    "scaler = MinMaxScaler(feature_range=(-1, 1))\n",
    "scaler = scaler.fit(train_set)\n",
    "\n",
    "# reshape training set\n",
    "train_set = train_set.reshape(train_set.shape[0], train_set.shape[1])\n",
    "train_set_scaled = scaler.transform(train_set)\n",
    "\n",
    "# reshape test set\n",
    "test_set = test_set.reshape(test_set.shape[0], test_set.shape[1])\n",
    "test_set_scaled = scaler.transform(test_set)"
   ]
  },
  {
   "cell_type": "code",
   "execution_count": 76,
   "id": "f251293c",
   "metadata": {},
   "outputs": [],
   "source": [
    "X_train, y_train = train_set_scaled[:, 1:], train_set_scaled[:, 0:1]\n",
    "X_train = X_train.reshape(X_train.shape[0], 1, X_train.shape[1])\n",
    "X_test, y_test = test_set_scaled[:, 1:], test_set_scaled[:, 0:1]\n",
    "X_test = X_test.reshape(X_test.shape[0], 1, X_test.shape[1])"
   ]
  },
  {
   "cell_type": "code",
   "execution_count": 77,
   "id": "0be1f019",
   "metadata": {},
   "outputs": [
    {
     "data": {
      "text/plain": [
       "((14, 1, 12), (14, 1))"
      ]
     },
     "execution_count": 77,
     "metadata": {},
     "output_type": "execute_result"
    }
   ],
   "source": [
    "X_train.shape, y_train.shape"
   ]
  },
  {
   "cell_type": "code",
   "execution_count": 78,
   "id": "a6cfe379",
   "metadata": {},
   "outputs": [
    {
     "data": {
      "text/plain": [
       "array([ -3105.,  14940.,   -360.,    360.,  -2340.,    900.,   5660.,\n",
       "        -3320.,   5940.,  -3780.,  -3239., -14581.,  27000.])"
      ]
     },
     "execution_count": 78,
     "metadata": {},
     "output_type": "execute_result"
    }
   ],
   "source": [
    "train_set[0]"
   ]
  },
  {
   "cell_type": "code",
   "execution_count": 79,
   "id": "b3540462",
   "metadata": {},
   "outputs": [
    {
     "data": {
      "text/plain": [
       "((10, 1, 12), (10, 1))"
      ]
     },
     "execution_count": 79,
     "metadata": {},
     "output_type": "execute_result"
    }
   ],
   "source": [
    "X_test.shape, y_test.shape"
   ]
  },
  {
   "cell_type": "code",
   "execution_count": null,
   "id": "ea8806c2",
   "metadata": {},
   "outputs": [],
   "source": []
  },
  {
   "cell_type": "code",
   "execution_count": 80,
   "id": "ee4c9378",
   "metadata": {},
   "outputs": [
    {
     "name": "stdout",
     "output_type": "stream",
     "text": [
      "Epoch 1/100\n",
      "14/14 [==============================] - 1s 3ms/step - loss: 0.3843 \n",
      "Epoch 2/100\n",
      "14/14 [==============================] - 0s 3ms/step - loss: 0.3840\n",
      "Epoch 3/100\n",
      "14/14 [==============================] - 0s 3ms/step - loss: 0.3793\n",
      "Epoch 4/100\n",
      "14/14 [==============================] - 0s 2ms/step - loss: 0.3749\n",
      "Epoch 5/100\n",
      "14/14 [==============================] - 0s 3ms/step - loss: 0.3707\n",
      "Epoch 6/100\n",
      "14/14 [==============================] - 0s 4ms/step - loss: 0.3666\n",
      "Epoch 7/100\n",
      "14/14 [==============================] - 0s 2ms/step - loss: 0.3625\n",
      "Epoch 8/100\n",
      "14/14 [==============================] - 0s 4ms/step - loss: 0.3585\n",
      "Epoch 9/100\n",
      "14/14 [==============================] - 0s 2ms/step - loss: 0.3546\n",
      "Epoch 10/100\n",
      "14/14 [==============================] - 0s 4ms/step - loss: 0.3508\n",
      "Epoch 11/100\n",
      "14/14 [==============================] - 0s 2ms/step - loss: 0.3470\n",
      "Epoch 12/100\n",
      "14/14 [==============================] - ETA: 0s - loss: 0.008 - 0s 3ms/step - loss: 0.3432\n",
      "Epoch 13/100\n",
      "14/14 [==============================] - 0s 2ms/step - loss: 0.3394\n",
      "Epoch 14/100\n",
      "14/14 [==============================] - 0s 3ms/step - loss: 0.3357\n",
      "Epoch 15/100\n",
      "14/14 [==============================] - 0s 3ms/step - loss: 0.3319\n",
      "Epoch 16/100\n",
      "14/14 [==============================] - 0s 3ms/step - loss: 0.3282\n",
      "Epoch 17/100\n",
      "14/14 [==============================] - 0s 3ms/step - loss: 0.3245\n",
      "Epoch 18/100\n",
      "14/14 [==============================] - 0s 2ms/step - loss: 0.3208\n",
      "Epoch 19/100\n",
      "14/14 [==============================] - 0s 3ms/step - loss: 0.3170\n",
      "Epoch 20/100\n",
      "14/14 [==============================] - 0s 3ms/step - loss: 0.3133\n",
      "Epoch 21/100\n",
      "14/14 [==============================] - 0s 4ms/step - loss: 0.3095\n",
      "Epoch 22/100\n",
      "14/14 [==============================] - 0s 2ms/step - loss: 0.3057\n",
      "Epoch 23/100\n",
      "14/14 [==============================] - 0s 3ms/step - loss: 0.3019\n",
      "Epoch 24/100\n",
      "14/14 [==============================] - 0s 3ms/step - loss: 0.2981\n",
      "Epoch 25/100\n",
      "14/14 [==============================] - 0s 3ms/step - loss: 0.2942\n",
      "Epoch 26/100\n",
      "14/14 [==============================] - 0s 4ms/step - loss: 0.2904\n",
      "Epoch 27/100\n",
      "14/14 [==============================] - 0s 2ms/step - loss: 0.2864\n",
      "Epoch 28/100\n",
      "14/14 [==============================] - 0s 2ms/step - loss: 0.2825\n",
      "Epoch 29/100\n",
      "14/14 [==============================] - 0s 3ms/step - loss: 0.2785\n",
      "Epoch 30/100\n",
      "14/14 [==============================] - 0s 6ms/step - loss: 0.2746A: 0s - loss: 0.268\n",
      "Epoch 31/100\n",
      "14/14 [==============================] - 0s 2ms/step - loss: 0.2705\n",
      "Epoch 32/100\n",
      "14/14 [==============================] - 0s 4ms/step - loss: 0.2665\n",
      "Epoch 33/100\n",
      "14/14 [==============================] - 0s 2ms/step - loss: 0.2624\n",
      "Epoch 34/100\n",
      "14/14 [==============================] - 0s 3ms/step - loss: 0.2583\n",
      "Epoch 35/100\n",
      "14/14 [==============================] - 0s 3ms/step - loss: 0.2542\n",
      "Epoch 36/100\n",
      "14/14 [==============================] - 0s 3ms/step - loss: 0.2501\n",
      "Epoch 37/100\n",
      "14/14 [==============================] - 0s 3ms/step - loss: 0.2459\n",
      "Epoch 38/100\n",
      "14/14 [==============================] - 0s 2ms/step - loss: 0.2418\n",
      "Epoch 39/100\n",
      "14/14 [==============================] - 0s 3ms/step - loss: 0.2376\n",
      "Epoch 40/100\n",
      "14/14 [==============================] - 0s 3ms/step - loss: 0.2335\n",
      "Epoch 41/100\n",
      "14/14 [==============================] - 0s 3ms/step - loss: 0.2293\n",
      "Epoch 42/100\n",
      "14/14 [==============================] - 0s 3ms/step - loss: 0.2251\n",
      "Epoch 43/100\n",
      "14/14 [==============================] - 0s 4ms/step - loss: 0.2209\n",
      "Epoch 44/100\n",
      "14/14 [==============================] - 0s 2ms/step - loss: 0.2168\n",
      "Epoch 45/100\n",
      "14/14 [==============================] - ETA: 0s - loss: 0.001 - 0s 3ms/step - loss: 0.2126\n",
      "Epoch 46/100\n",
      "14/14 [==============================] - 0s 4ms/step - loss: 0.2084\n",
      "Epoch 47/100\n",
      "14/14 [==============================] - 0s 3ms/step - loss: 0.2043\n",
      "Epoch 48/100\n",
      "14/14 [==============================] - 0s 3ms/step - loss: 0.2002\n",
      "Epoch 49/100\n",
      "14/14 [==============================] - 0s 3ms/step - loss: 0.1961\n",
      "Epoch 50/100\n",
      "14/14 [==============================] - 0s 3ms/step - loss: 0.1920\n",
      "Epoch 51/100\n",
      "14/14 [==============================] - 0s 2ms/step - loss: 0.1879\n",
      "Epoch 52/100\n",
      "14/14 [==============================] - 0s 4ms/step - loss: 0.1839\n",
      "Epoch 53/100\n",
      "14/14 [==============================] - 0s 2ms/step - loss: 0.1799\n",
      "Epoch 54/100\n",
      "14/14 [==============================] - 0s 2ms/step - loss: 0.1759\n",
      "Epoch 55/100\n",
      "14/14 [==============================] - 0s 2ms/step - loss: 0.1719\n",
      "Epoch 56/100\n",
      "14/14 [==============================] - 0s 2ms/step - loss: 0.1680\n",
      "Epoch 57/100\n",
      "14/14 [==============================] - 0s 3ms/step - loss: 0.1641\n",
      "Epoch 58/100\n",
      "14/14 [==============================] - 0s 2ms/step - loss: 0.1603\n",
      "Epoch 59/100\n",
      "14/14 [==============================] - 0s 2ms/step - loss: 0.1564\n",
      "Epoch 60/100\n",
      "14/14 [==============================] - 0s 3ms/step - loss: 0.1526\n",
      "Epoch 61/100\n",
      "14/14 [==============================] - 0s 2ms/step - loss: 0.1489\n",
      "Epoch 62/100\n",
      "14/14 [==============================] - 0s 2ms/step - loss: 0.1451\n",
      "Epoch 63/100\n",
      "14/14 [==============================] - 0s 2ms/step - loss: 0.1415\n",
      "Epoch 64/100\n",
      "14/14 [==============================] - 0s 3ms/step - loss: 0.1378\n",
      "Epoch 65/100\n",
      "14/14 [==============================] - 0s 2ms/step - loss: 0.1342\n",
      "Epoch 66/100\n",
      "14/14 [==============================] - 0s 2ms/step - loss: 0.1306\n",
      "Epoch 67/100\n",
      "14/14 [==============================] - 0s 3ms/step - loss: 0.1271\n",
      "Epoch 68/100\n",
      "14/14 [==============================] - 0s 2ms/step - loss: 0.1236\n",
      "Epoch 69/100\n",
      "14/14 [==============================] - 0s 2ms/step - loss: 0.1202\n",
      "Epoch 70/100\n",
      "14/14 [==============================] - 0s 2ms/step - loss: 0.1168\n",
      "Epoch 71/100\n",
      "14/14 [==============================] - 0s 2ms/step - loss: 0.1135\n",
      "Epoch 72/100\n",
      "14/14 [==============================] - 0s 2ms/step - loss: 0.1102\n",
      "Epoch 73/100\n",
      "14/14 [==============================] - 0s 3ms/step - loss: 0.1069\n",
      "Epoch 74/100\n",
      "14/14 [==============================] - 0s 2ms/step - loss: 0.1037\n",
      "Epoch 75/100\n",
      "14/14 [==============================] - 0s 3ms/step - loss: 0.1006\n",
      "Epoch 76/100\n",
      "14/14 [==============================] - 0s 2ms/step - loss: 0.0975\n",
      "Epoch 77/100\n",
      "14/14 [==============================] - 0s 2ms/step - loss: 0.0944\n",
      "Epoch 78/100\n",
      "14/14 [==============================] - 0s 3ms/step - loss: 0.0914\n",
      "Epoch 79/100\n",
      "14/14 [==============================] - 0s 2ms/step - loss: 0.0885\n",
      "Epoch 80/100\n",
      "14/14 [==============================] - 0s 3ms/step - loss: 0.0856\n",
      "Epoch 81/100\n",
      "14/14 [==============================] - 0s 3ms/step - loss: 0.0828\n",
      "Epoch 82/100\n",
      "14/14 [==============================] - 0s 2ms/step - loss: 0.0800\n",
      "Epoch 83/100\n",
      "14/14 [==============================] - 0s 2ms/step - loss: 0.0773\n",
      "Epoch 84/100\n",
      "14/14 [==============================] - 0s 3ms/step - loss: 0.0747\n",
      "Epoch 85/100\n",
      "14/14 [==============================] - 0s 2ms/step - loss: 0.0721\n",
      "Epoch 86/100\n",
      "14/14 [==============================] - 0s 2ms/step - loss: 0.0695\n",
      "Epoch 87/100\n",
      "14/14 [==============================] - 0s 2ms/step - loss: 0.0671\n",
      "Epoch 88/100\n",
      "14/14 [==============================] - ETA: 0s - loss: 0.012 - 0s 2ms/step - loss: 0.0647\n",
      "Epoch 89/100\n",
      "14/14 [==============================] - 0s 2ms/step - loss: 0.0623\n",
      "Epoch 90/100\n",
      "14/14 [==============================] - 0s 3ms/step - loss: 0.0600\n",
      "Epoch 91/100\n",
      "14/14 [==============================] - 0s 2ms/step - loss: 0.0578\n",
      "Epoch 92/100\n",
      "14/14 [==============================] - 0s 2ms/step - loss: 0.0556\n",
      "Epoch 93/100\n",
      "14/14 [==============================] - 0s 3ms/step - loss: 0.0535\n",
      "Epoch 94/100\n",
      "14/14 [==============================] - 0s 2ms/step - loss: 0.0515\n",
      "Epoch 95/100\n",
      "14/14 [==============================] - 0s 2ms/step - loss: 0.0495\n",
      "Epoch 96/100\n",
      "14/14 [==============================] - 0s 3ms/step - loss: 0.0475\n",
      "Epoch 97/100\n",
      "14/14 [==============================] - 0s 2ms/step - loss: 0.0457\n",
      "Epoch 98/100\n",
      "14/14 [==============================] - 0s 3ms/step - loss: 0.0439\n",
      "Epoch 99/100\n",
      "14/14 [==============================] - 0s 3ms/step - loss: 0.0421\n",
      "Epoch 100/100\n",
      "14/14 [==============================] - 0s 2ms/step - loss: 0.0404\n"
     ]
    },
    {
     "data": {
      "text/plain": [
       "<keras.callbacks.History at 0x27978cdacd0>"
      ]
     },
     "execution_count": 80,
     "metadata": {},
     "output_type": "execute_result"
    }
   ],
   "source": [
    "model = Sequential()\n",
    "model.add(LSTM(4, batch_input_shape=(1, X_train.shape[1], X_train.shape[2]), stateful=True))\n",
    "model.add(Dense(1))\n",
    "model.compile(loss='mean_squared_error', optimizer='adam')\n",
    "model.fit(X_train, y_train, epochs=100, batch_size=1, verbose=1, shuffle=False)"
   ]
  },
  {
   "cell_type": "code",
   "execution_count": 81,
   "id": "5aff5b28",
   "metadata": {},
   "outputs": [
    {
     "data": {
      "text/plain": [
       "array([[ 0.32818055],\n",
       "       [-0.0450634 ],\n",
       "       [-0.27389982],\n",
       "       [ 0.10172482],\n",
       "       [ 0.4947421 ],\n",
       "       [ 0.31396452],\n",
       "       [ 0.09963818],\n",
       "       [-0.01380998],\n",
       "       [ 0.00796117],\n",
       "       [-0.04392901]], dtype=float32)"
      ]
     },
     "execution_count": 81,
     "metadata": {},
     "output_type": "execute_result"
    }
   ],
   "source": [
    "y_pred = model.predict(X_test,batch_size=1)\n",
    "y_pred"
   ]
  },
  {
   "cell_type": "code",
   "execution_count": 82,
   "id": "6e12d29b",
   "metadata": {},
   "outputs": [
    {
     "data": {
      "text/plain": [
       "(10, 1)"
      ]
     },
     "execution_count": 82,
     "metadata": {},
     "output_type": "execute_result"
    }
   ],
   "source": [
    "y_pred.shape"
   ]
  },
  {
   "cell_type": "code",
   "execution_count": 83,
   "id": "454f74da",
   "metadata": {},
   "outputs": [
    {
     "name": "stdout",
     "output_type": "stream",
     "text": [
      "[[ 0.32818055  0.80112269 -0.54611067  0.1659984  -0.58460305  0.19165998\n",
      "  -0.86046512  1.16305291 -0.08586297 -0.37727667  0.28187337 -0.35299219\n",
      "   0.96255319]]\n",
      "[[-0.0450634  -0.22534082  0.80112269 -0.54611067  0.1659984  -0.58460305\n",
      "   0.19165998 -0.84908933  1.16305291 -0.08586297 -0.37727667  0.28187337\n",
      "  -0.36510638]]\n",
      "[[-0.27389982 -0.09703288 -0.22534082  0.80112269 -0.54611067  0.1659984\n",
      "  -0.58460305  0.2888118  -0.84908933  1.16305291 -0.08586297 -0.37727667\n",
      "   0.25787234]]\n",
      "[[ 0.10172482 -0.31515638 -0.09703288 -0.22534082  0.80112269 -0.54611067\n",
      "   0.1659984  -0.55073721  0.2888118  -0.84908933  1.16305291 -0.08586297\n",
      "  -0.38893617]]\n",
      "[[ 0.4947421  -0.08420209 -0.31515638 -0.09703288 -0.22534082  0.80112269\n",
      "  -0.54611067  0.26105811 -0.55073721  0.2888118  -0.84908933  1.16305291\n",
      "  -0.10297872]]\n",
      "[[ 0.31396452 -0.57177225 -0.08420209 -0.31515638 -0.09703288 -0.22534082\n",
      "   0.80112269 -0.50910668  0.26105811 -0.55073721  0.2888118  -0.84908933\n",
      "   1.12255319]]\n",
      "[[ 0.09963818  0.90184443 -0.57177225 -0.08420209 -0.31515638 -0.09703288\n",
      "  -0.22534082  0.94796184 -0.50910668  0.26105811 -0.55073721  0.2888118\n",
      "  -0.85191489]]\n",
      "[[-0.01380998  0.33664796  0.90184443 -0.57177225 -0.08420209 -0.31515638\n",
      "  -0.09703288 -0.1621856   0.94796184 -0.50910668  0.26105811 -0.55073721\n",
      "   0.26468085]]\n",
      "[[ 0.00796117 -0.19518845  0.33664796  0.90184443 -0.57177225 -0.08420209\n",
      "  -0.31515638 -0.02341717 -0.1621856   0.94796184 -0.50910668  0.26105811\n",
      "  -0.55914894]]\n",
      "[[-0.04392901 -0.22152722 -0.19518845  0.33664796  0.90184443 -0.57177225\n",
      "  -0.08420209 -0.2593235  -0.02341717 -0.1621856   0.94796184 -0.50910668\n",
      "   0.23744681]]\n"
     ]
    }
   ],
   "source": [
    "#reshape y_pred\n",
    "\n",
    "y_pred = y_pred.reshape(y_pred.shape[0], 1, y_pred.shape[1])\n",
    "\n",
    "#rebuild test set for inverse transform\n",
    "\n",
    "pred_test_set = []\n",
    "for index in range(0,len(y_pred)):\n",
    "    print(np.concatenate([y_pred[index],X_test[index]],axis=1))\n",
    "    pred_test_set.append(np.concatenate([y_pred[index],X_test[index]],axis=1))\n",
    "    \n",
    "#reshape pred_test_set\n",
    "\n",
    "pred_test_set = np.array(pred_test_set)\n",
    "\n",
    "pred_test_set = pred_test_set.reshape(pred_test_set.shape[0], pred_test_set.shape[2])\n",
    "\n",
    "#inverse transform\n",
    "\n",
    "pred_test_set_inverted = scaler.inverse_transform(pred_test_set)\n"
   ]
  },
  {
   "cell_type": "code",
   "execution_count": 84,
   "id": "287a9040",
   "metadata": {},
   "outputs": [
    {
     "data": {
      "text/plain": [
       "(10, 1, 1)"
      ]
     },
     "execution_count": 84,
     "metadata": {},
     "output_type": "execute_result"
    }
   ],
   "source": [
    "y_pred.shape"
   ]
  },
  {
   "cell_type": "code",
   "execution_count": 85,
   "id": "02247344",
   "metadata": {},
   "outputs": [
    {
     "data": {
      "text/plain": [
       "(10, 13)"
      ]
     },
     "execution_count": 85,
     "metadata": {},
     "output_type": "execute_result"
    }
   ],
   "source": [
    "pred_test_set.shape\n",
    "\n",
    "pred_test_set.shape"
   ]
  },
  {
   "cell_type": "code",
   "execution_count": 86,
   "id": "7a5fda49",
   "metadata": {},
   "outputs": [
    {
     "data": {
      "text/plain": [
       "(10, 13)"
      ]
     },
     "execution_count": 86,
     "metadata": {},
     "output_type": "execute_result"
    }
   ],
   "source": [
    "pred_test_set.shape"
   ]
  },
  {
   "cell_type": "code",
   "execution_count": 89,
   "id": "5d6cb224",
   "metadata": {},
   "outputs": [],
   "source": [
    "#create dataframe that shows the predicted sales\n",
    "\n",
    "result_list = []\n",
    "sales_dates = list(df_sales[-11:].date)\n",
    "act_sales = list(df_sales[-11:].sales)\n",
    "for index in range(0,len(pred_test_set_inverted)):\n",
    "    result_dict = {}\n",
    "    result_dict['pred_value'] = int(pred_test_set_inverted[index][0] + act_sales[index])\n",
    "    result_dict['date'] = sales_dates[index+1]\n",
    "    result_list.append(result_dict)\n",
    "df_result = pd.DataFrame(result_list)"
   ]
  },
  {
   "cell_type": "code",
   "execution_count": 90,
   "id": "50a77af7",
   "metadata": {},
   "outputs": [
    {
     "data": {
      "text/plain": [
       "88790.42582452297"
      ]
     },
     "execution_count": 90,
     "metadata": {},
     "output_type": "execute_result"
    }
   ],
   "source": [
    "pred_test_set_inverted[0][0]+ act_sales[0]"
   ]
  },
  {
   "cell_type": "code",
   "execution_count": 91,
   "id": "97b94939",
   "metadata": {},
   "outputs": [
    {
     "data": {
      "text/html": [
       "<div>\n",
       "<style scoped>\n",
       "    .dataframe tbody tr th:only-of-type {\n",
       "        vertical-align: middle;\n",
       "    }\n",
       "\n",
       "    .dataframe tbody tr th {\n",
       "        vertical-align: top;\n",
       "    }\n",
       "\n",
       "    .dataframe thead th {\n",
       "        text-align: right;\n",
       "    }\n",
       "</style>\n",
       "<table border=\"1\" class=\"dataframe\">\n",
       "  <thead>\n",
       "    <tr style=\"text-align: right;\">\n",
       "      <th></th>\n",
       "      <th>pred_value</th>\n",
       "      <th>date</th>\n",
       "    </tr>\n",
       "  </thead>\n",
       "  <tbody>\n",
       "    <tr>\n",
       "      <th>0</th>\n",
       "      <td>88790</td>\n",
       "      <td>01-08-2019</td>\n",
       "    </tr>\n",
       "    <tr>\n",
       "      <th>1</th>\n",
       "      <td>74178</td>\n",
       "      <td>01-09-2019</td>\n",
       "    </tr>\n",
       "    <tr>\n",
       "      <th>2</th>\n",
       "      <td>67217</td>\n",
       "      <td>01-10-2019</td>\n",
       "    </tr>\n",
       "    <tr>\n",
       "      <th>3</th>\n",
       "      <td>71096</td>\n",
       "      <td>01-11-2019</td>\n",
       "    </tr>\n",
       "    <tr>\n",
       "      <th>4</th>\n",
       "      <td>81943</td>\n",
       "      <td>01-12-2019</td>\n",
       "    </tr>\n",
       "    <tr>\n",
       "      <th>5</th>\n",
       "      <td>63011</td>\n",
       "      <td>01-01-2020</td>\n",
       "    </tr>\n",
       "    <tr>\n",
       "      <th>6</th>\n",
       "      <td>84484</td>\n",
       "      <td>01-02-2020</td>\n",
       "    </tr>\n",
       "    <tr>\n",
       "      <th>7</th>\n",
       "      <td>92929</td>\n",
       "      <td>01-03-2020</td>\n",
       "    </tr>\n",
       "    <tr>\n",
       "      <th>8</th>\n",
       "      <td>90245</td>\n",
       "      <td>01-04-2020</td>\n",
       "    </tr>\n",
       "    <tr>\n",
       "      <th>9</th>\n",
       "      <td>84756</td>\n",
       "      <td>01-05-2020</td>\n",
       "    </tr>\n",
       "  </tbody>\n",
       "</table>\n",
       "</div>"
      ],
      "text/plain": [
       "   pred_value        date\n",
       "0       88790  01-08-2019\n",
       "1       74178  01-09-2019\n",
       "2       67217  01-10-2019\n",
       "3       71096  01-11-2019\n",
       "4       81943  01-12-2019\n",
       "5       63011  01-01-2020\n",
       "6       84484  01-02-2020\n",
       "7       92929  01-03-2020\n",
       "8       90245  01-04-2020\n",
       "9       84756  01-05-2020"
      ]
     },
     "execution_count": 91,
     "metadata": {},
     "output_type": "execute_result"
    }
   ],
   "source": [
    "df_result"
   ]
  },
  {
   "cell_type": "code",
   "execution_count": 92,
   "id": "bd557cf3",
   "metadata": {},
   "outputs": [],
   "source": [
    "df_sales_pred = pd.merge(df_sales,df_result,on='date',how='left')\n",
    "#df_sales_pred"
   ]
  },
  {
   "cell_type": "code",
   "execution_count": 93,
   "id": "c67b287e",
   "metadata": {},
   "outputs": [
    {
     "data": {
      "text/plain": [
       "[<matplotlib.lines.Line2D at 0x2797aff4370>]"
      ]
     },
     "execution_count": 93,
     "metadata": {},
     "output_type": "execute_result"
    },
    {
     "data": {
      "image/png": "[encoded data removed]",
      "text/plain": [
       "<Figure size 432x288 with 1 Axes>"
      ]
     },
     "metadata": {
      "needs_background": "light"
     },
     "output_type": "display_data"
    }
   ],
   "source": [
    "plt.plot(df_sales_pred[\"date\"],df_sales_pred[\"sales\"])\n",
    "plt.plot( df_sales_pred[\"date\"],df_sales_pred[\"pred_value\"])"
   ]
  },
  {
   "cell_type": "code",
   "execution_count": 95,
   "id": "a4d0bbf4",
   "metadata": {},
   "outputs": [],
   "source": [
    "#df_sales_pred[-10:].pred_value"
   ]
  },
  {
   "cell_type": "code",
   "execution_count": null,
   "id": "b4716a04",
   "metadata": {},
   "outputs": [],
   "source": []
  },
  {
   "cell_type": "code",
   "execution_count": null,
   "id": "b0cf5bd4",
   "metadata": {},
   "outputs": [],
   "source": []
  },
  {
   "cell_type": "code",
   "execution_count": 96,
   "id": "5954ad03",
   "metadata": {},
   "outputs": [
    {
     "data": {
      "text/plain": [
       "(14, 1, 12)"
      ]
     },
     "execution_count": 96,
     "metadata": {},
     "output_type": "execute_result"
    }
   ],
   "source": [
    "X_train.shape"
   ]
  },
  {
   "cell_type": "code",
   "execution_count": 97,
   "id": "4f70a8e1",
   "metadata": {},
   "outputs": [
    {
     "data": {
      "text/plain": [
       "(14, 1)"
      ]
     },
     "execution_count": 97,
     "metadata": {},
     "output_type": "execute_result"
    }
   ],
   "source": [
    "ytrain_pred = model.predict(X_train,batch_size=1)\n",
    "ytrain_pred.shape"
   ]
  },
  {
   "cell_type": "code",
   "execution_count": 98,
   "id": "8a725ad5",
   "metadata": {},
   "outputs": [
    {
     "name": "stdout",
     "output_type": "stream",
     "text": [
      "[[-0.45764714  0.45469126 -0.09061748 -0.06495589 -0.16118685 -0.0457097\n",
      "   0.12394191 -0.13057724  0.226366   -0.14830876 -0.12745495 -0.5646526\n",
      "   1.        ]]\n",
      "[[-0.48765746 -0.18845229  0.45469126 -0.09061748 -0.06495589 -0.16118685\n",
      "  -0.0457097   0.2155729  -0.13057724  0.226366   -0.14830876 -0.12745495\n",
      "  -0.57280378]]\n",
      "[[ 0.55021727 -1.         -0.18845229  0.45469126 -0.09061748 -0.06495589\n",
      "  -0.16118685  0.0320902   0.2155729  -0.13057724  0.226366   -0.14830876\n",
      "  -0.14379196]]\n",
      "[[-0.29886624  0.84923817 -1.         -0.18845229  0.45469126 -0.09061748\n",
      "  -0.06495589 -0.09280139  0.0320902   0.2155729  -0.13057724  0.226366\n",
      "  -0.16425532]]\n",
      "[[ 0.18231802 -0.40176423  0.84923817 -1.         -0.18845229  0.45469126\n",
      "  -0.09061748  0.01127493 -0.09280139  0.0320902   0.2155729  -0.13057724\n",
      "   0.20340426]]\n",
      "[[-0.42803469  0.18524459 -0.40176423  0.84923817 -1.         -0.18845229\n",
      "   0.45469126 -0.01647875  0.01127493 -0.09280139  0.0320902   0.2155729\n",
      "  -0.14685579]]\n",
      "[[-0.06625389 -0.42421812  0.18524459 -0.40176423  0.84923817 -1.\n",
      "  -0.18845229  0.57328708 -0.01647875  0.01127493 -0.09280139  0.0320902\n",
      "   0.19281324]]\n",
      "[[ 0.80737752 -0.15477145 -0.42421812  0.18524459 -0.40176423  0.84923817\n",
      "  -1.         -0.12228968  0.57328708 -0.01647875  0.01127493 -0.09280139\n",
      "   0.01276596]]\n",
      "[[-0.7743848   1.         -0.15477145 -0.42421812  0.18524459 -0.40176423\n",
      "   0.84923817 -1.         -0.12228968  0.57328708 -0.01647875  0.01127493\n",
      "  -0.10978723]]\n",
      "[[ 0.27661377 -0.86046512  1.         -0.15477145 -0.42421812  0.18524459\n",
      "  -0.40176423  1.         -1.         -0.12228968  0.57328708 -0.01647875\n",
      "  -0.00765957]]\n",
      "[[-0.33180305  0.19165998 -0.86046512  1.         -0.15477145 -0.42421812\n",
      "   0.18524459 -0.35299219  1.         -1.         -0.12228968  0.57328708\n",
      "  -0.03489362]]\n",
      "[[ 0.16299307 -0.58460305  0.19165998 -0.86046512  1.         -0.15477145\n",
      "  -0.42421812  0.28187337 -0.35299219  1.         -1.         -0.12228968\n",
      "   0.54382979]]\n",
      "[[-0.41941485  0.1659984  -0.58460305  0.19165998 -0.86046512  1.\n",
      "  -0.15477145 -0.37727667  0.28187337 -0.35299219  1.         -1.\n",
      "  -0.1387234 ]]\n",
      "[[ 0.70540583 -0.54611067  0.1659984  -0.58460305  0.19165998 -0.86046512\n",
      "   1.         -0.08586297 -0.37727667  0.28187337 -0.35299219  1.\n",
      "  -1.        ]]\n"
     ]
    },
    {
     "data": {
      "text/plain": [
       "array([[-10657.93476507,  14940.        ,   -360.        ,\n",
       "           360.        ,  -2340.        ,    900.        ,\n",
       "          5660.        ,  -3320.        ,   5940.        ,\n",
       "         -3780.        ,  -3239.        , -14581.        ,\n",
       "         27000.        ],\n",
       "       [-11499.94911633,  -3105.        ,  14940.        ,\n",
       "          -360.        ,    360.        ,  -2340.        ,\n",
       "           900.        ,   5660.        ,  -3320.        ,\n",
       "          5940.        ,  -3780.        ,  -3239.        ,\n",
       "        -14581.        ],\n",
       "       [ 17620.22107691, -25875.        ,  -3105.        ,\n",
       "         14940.        ,   -360.        ,    360.        ,\n",
       "         -2340.        ,    900.        ,   5660.        ,\n",
       "         -3320.        ,   5940.        ,  -3780.        ,\n",
       "         -3239.        ],\n",
       "       [ -6202.93958969,  26010.        , -25875.        ,\n",
       "         -3105.        ,  14940.        ,   -360.        ,\n",
       "           360.        ,  -2340.        ,    900.        ,\n",
       "          5660.        ,  -3320.        ,   5940.        ,\n",
       "         -3780.        ],\n",
       "       [  7297.8877588 ,  -9090.        ,  26010.        ,\n",
       "        -25875.        ,  -3105.        ,  14940.        ,\n",
       "          -360.        ,    360.        ,  -2340.        ,\n",
       "           900.        ,   5660.        ,  -3320.        ,\n",
       "          5940.        ],\n",
       "       [ -9827.08339892,   7380.        ,  -9090.        ,\n",
       "         26010.        , -25875.        ,  -3105.        ,\n",
       "         14940.        ,   -360.        ,    360.        ,\n",
       "         -2340.        ,    900.        ,   5660.        ,\n",
       "         -3320.        ],\n",
       "       [   323.58160403,  -9720.        ,   7380.        ,\n",
       "         -9090.        ,  26010.        , -25875.        ,\n",
       "         -3105.        ,  14940.        ,   -360.        ,\n",
       "           360.        ,  -2340.        ,    900.        ,\n",
       "          5660.        ],\n",
       "       [ 24835.49468949,  -2160.        ,  -9720.        ,\n",
       "          7380.        ,  -9090.        ,  26010.        ,\n",
       "        -25875.        ,  -3105.        ,  14940.        ,\n",
       "          -360.        ,    360.        ,  -2340.        ,\n",
       "           900.        ],\n",
       "       [-19544.80143115,  30240.        ,  -2160.        ,\n",
       "         -9720.        ,   7380.        ,  -9090.        ,\n",
       "         26010.        , -25875.        ,  -3105.        ,\n",
       "         14940.        ,   -360.        ,    360.        ,\n",
       "         -2340.        ],\n",
       "       [  9943.59090552, -21960.        ,  30240.        ,\n",
       "         -2160.        ,  -9720.        ,   7380.        ,\n",
       "         -9090.        ,  26010.        , -25875.        ,\n",
       "         -3105.        ,  14940.        ,   -360.        ,\n",
       "           360.        ],\n",
       "       [ -7127.06417687,   7560.        , -21960.        ,\n",
       "         30240.        ,  -2160.        ,  -9720.        ,\n",
       "          7380.        ,  -9090.        ,  26010.        ,\n",
       "        -25875.        ,  -3105.        ,  14940.        ,\n",
       "          -360.        ],\n",
       "       [  6755.6781587 , -14220.        ,   7560.        ,\n",
       "        -21960.        ,  30240.        ,  -2160.        ,\n",
       "         -9720.        ,   7380.        ,  -9090.        ,\n",
       "         26010.        , -25875.        ,  -3105.        ,\n",
       "         14940.        ],\n",
       "       [ -9585.23210026,   6840.        , -14220.        ,\n",
       "          7560.        , -21960.        ,  30240.        ,\n",
       "         -2160.        ,  -9720.        ,   7380.        ,\n",
       "         -9090.        ,  26010.        , -25875.        ,\n",
       "         -3105.        ],\n",
       "       [ 21974.42411274, -13140.        ,   6840.        ,\n",
       "        -14220.        ,   7560.        , -21960.        ,\n",
       "         30240.        ,  -2160.        ,  -9720.        ,\n",
       "          7380.        ,  -9090.        ,  26010.        ,\n",
       "        -25875.        ]])"
      ]
     },
     "execution_count": 98,
     "metadata": {},
     "output_type": "execute_result"
    }
   ],
   "source": [
    "#reshape y_pred\n",
    "\n",
    "ytrain_pred =ytrain_pred.reshape(ytrain_pred.shape[0], 1,ytrain_pred.shape[1])\n",
    "ytrain_pred.shape\n",
    "#rebuild test set for inverse transform\n",
    "\n",
    "pred_train_set = []\n",
    "for index in range(0,len(ytrain_pred)):\n",
    "    print(np.concatenate([ytrain_pred[index],X_train[index]],axis=1))\n",
    "    pred_train_set.append(np.concatenate([ytrain_pred[index],X_train[index]],axis=1))\n",
    "    \n",
    "#reshape pred_test_set\n",
    "\n",
    "pred_train_set = np.array(pred_train_set)\n",
    "\n",
    "pred_train_set = pred_train_set.reshape(pred_train_set.shape[0], pred_train_set.shape[2])\n",
    "\n",
    "#inverse transform\n",
    "\n",
    "pred_train_set_inverted = scaler.inverse_transform(pred_train_set)\n",
    "pred_train_set_inverted"
   ]
  },
  {
   "cell_type": "code",
   "execution_count": 99,
   "id": "cf78e607",
   "metadata": {},
   "outputs": [
    {
     "data": {
      "text/plain": [
       "(14, 1, 1)"
      ]
     },
     "execution_count": 99,
     "metadata": {},
     "output_type": "execute_result"
    }
   ],
   "source": [
    "ytrain_pred.shape"
   ]
  },
  {
   "cell_type": "code",
   "execution_count": 100,
   "id": "83e5b1e6",
   "metadata": {},
   "outputs": [
    {
     "data": {
      "text/plain": [
       "(14, 13)"
      ]
     },
     "execution_count": 100,
     "metadata": {},
     "output_type": "execute_result"
    }
   ],
   "source": [
    "pred_train_set.shape"
   ]
  },
  {
   "cell_type": "code",
   "execution_count": 101,
   "id": "a3dbb5d8",
   "metadata": {},
   "outputs": [
    {
     "data": {
      "text/plain": [
       "(14, 13)"
      ]
     },
     "execution_count": 101,
     "metadata": {},
     "output_type": "execute_result"
    }
   ],
   "source": [
    "pred_train_set_inverted.shape"
   ]
  },
  {
   "cell_type": "code",
   "execution_count": 102,
   "id": "a116441e",
   "metadata": {},
   "outputs": [
    {
     "data": {
      "text/html": [
       "<div>\n",
       "<style scoped>\n",
       "    .dataframe tbody tr th:only-of-type {\n",
       "        vertical-align: middle;\n",
       "    }\n",
       "\n",
       "    .dataframe tbody tr th {\n",
       "        vertical-align: top;\n",
       "    }\n",
       "\n",
       "    .dataframe thead th {\n",
       "        text-align: right;\n",
       "    }\n",
       "</style>\n",
       "<table border=\"1\" class=\"dataframe\">\n",
       "  <thead>\n",
       "    <tr style=\"text-align: right;\">\n",
       "      <th></th>\n",
       "      <th>date</th>\n",
       "      <th>sales</th>\n",
       "      <th>diff</th>\n",
       "      <th>lag_1</th>\n",
       "      <th>lag_2</th>\n",
       "      <th>lag_3</th>\n",
       "      <th>lag_4</th>\n",
       "      <th>lag_5</th>\n",
       "      <th>lag_6</th>\n",
       "      <th>lag_7</th>\n",
       "      <th>lag_8</th>\n",
       "      <th>lag_9</th>\n",
       "      <th>lag_10</th>\n",
       "      <th>lag_11</th>\n",
       "      <th>lag_12</th>\n",
       "    </tr>\n",
       "  </thead>\n",
       "  <tbody>\n",
       "    <tr>\n",
       "      <th>0</th>\n",
       "      <td>01-06-2018</td>\n",
       "      <td>70875</td>\n",
       "      <td>-3105.0</td>\n",
       "      <td>14940.0</td>\n",
       "      <td>-360.0</td>\n",
       "      <td>360.0</td>\n",
       "      <td>-2340.0</td>\n",
       "      <td>900.0</td>\n",
       "      <td>5660.0</td>\n",
       "      <td>-3320.0</td>\n",
       "      <td>5940.0</td>\n",
       "      <td>-3780.0</td>\n",
       "      <td>-3239.0</td>\n",
       "      <td>-14581.0</td>\n",
       "      <td>27000.0</td>\n",
       "    </tr>\n",
       "    <tr>\n",
       "      <th>1</th>\n",
       "      <td>01-07-2018</td>\n",
       "      <td>45000</td>\n",
       "      <td>-25875.0</td>\n",
       "      <td>-3105.0</td>\n",
       "      <td>14940.0</td>\n",
       "      <td>-360.0</td>\n",
       "      <td>360.0</td>\n",
       "      <td>-2340.0</td>\n",
       "      <td>900.0</td>\n",
       "      <td>5660.0</td>\n",
       "      <td>-3320.0</td>\n",
       "      <td>5940.0</td>\n",
       "      <td>-3780.0</td>\n",
       "      <td>-3239.0</td>\n",
       "      <td>-14581.0</td>\n",
       "    </tr>\n",
       "    <tr>\n",
       "      <th>2</th>\n",
       "      <td>01-08-2018</td>\n",
       "      <td>71010</td>\n",
       "      <td>26010.0</td>\n",
       "      <td>-25875.0</td>\n",
       "      <td>-3105.0</td>\n",
       "      <td>14940.0</td>\n",
       "      <td>-360.0</td>\n",
       "      <td>360.0</td>\n",
       "      <td>-2340.0</td>\n",
       "      <td>900.0</td>\n",
       "      <td>5660.0</td>\n",
       "      <td>-3320.0</td>\n",
       "      <td>5940.0</td>\n",
       "      <td>-3780.0</td>\n",
       "      <td>-3239.0</td>\n",
       "    </tr>\n",
       "    <tr>\n",
       "      <th>3</th>\n",
       "      <td>01-09-2018</td>\n",
       "      <td>61920</td>\n",
       "      <td>-9090.0</td>\n",
       "      <td>26010.0</td>\n",
       "      <td>-25875.0</td>\n",
       "      <td>-3105.0</td>\n",
       "      <td>14940.0</td>\n",
       "      <td>-360.0</td>\n",
       "      <td>360.0</td>\n",
       "      <td>-2340.0</td>\n",
       "      <td>900.0</td>\n",
       "      <td>5660.0</td>\n",
       "      <td>-3320.0</td>\n",
       "      <td>5940.0</td>\n",
       "      <td>-3780.0</td>\n",
       "    </tr>\n",
       "    <tr>\n",
       "      <th>4</th>\n",
       "      <td>01-10-2018</td>\n",
       "      <td>69300</td>\n",
       "      <td>7380.0</td>\n",
       "      <td>-9090.0</td>\n",
       "      <td>26010.0</td>\n",
       "      <td>-25875.0</td>\n",
       "      <td>-3105.0</td>\n",
       "      <td>14940.0</td>\n",
       "      <td>-360.0</td>\n",
       "      <td>360.0</td>\n",
       "      <td>-2340.0</td>\n",
       "      <td>900.0</td>\n",
       "      <td>5660.0</td>\n",
       "      <td>-3320.0</td>\n",
       "      <td>5940.0</td>\n",
       "    </tr>\n",
       "    <tr>\n",
       "      <th>5</th>\n",
       "      <td>01-11-2018</td>\n",
       "      <td>59580</td>\n",
       "      <td>-9720.0</td>\n",
       "      <td>7380.0</td>\n",
       "      <td>-9090.0</td>\n",
       "      <td>26010.0</td>\n",
       "      <td>-25875.0</td>\n",
       "      <td>-3105.0</td>\n",
       "      <td>14940.0</td>\n",
       "      <td>-360.0</td>\n",
       "      <td>360.0</td>\n",
       "      <td>-2340.0</td>\n",
       "      <td>900.0</td>\n",
       "      <td>5660.0</td>\n",
       "      <td>-3320.0</td>\n",
       "    </tr>\n",
       "    <tr>\n",
       "      <th>6</th>\n",
       "      <td>01-12-2018</td>\n",
       "      <td>57420</td>\n",
       "      <td>-2160.0</td>\n",
       "      <td>-9720.0</td>\n",
       "      <td>7380.0</td>\n",
       "      <td>-9090.0</td>\n",
       "      <td>26010.0</td>\n",
       "      <td>-25875.0</td>\n",
       "      <td>-3105.0</td>\n",
       "      <td>14940.0</td>\n",
       "      <td>-360.0</td>\n",
       "      <td>360.0</td>\n",
       "      <td>-2340.0</td>\n",
       "      <td>900.0</td>\n",
       "      <td>5660.0</td>\n",
       "    </tr>\n",
       "  </tbody>\n",
       "</table>\n",
       "</div>"
      ],
      "text/plain": [
       "         date  sales     diff    lag_1    lag_2    lag_3    lag_4    lag_5  \\\n",
       "0  01-06-2018  70875  -3105.0  14940.0   -360.0    360.0  -2340.0    900.0   \n",
       "1  01-07-2018  45000 -25875.0  -3105.0  14940.0   -360.0    360.0  -2340.0   \n",
       "2  01-08-2018  71010  26010.0 -25875.0  -3105.0  14940.0   -360.0    360.0   \n",
       "3  01-09-2018  61920  -9090.0  26010.0 -25875.0  -3105.0  14940.0   -360.0   \n",
       "4  01-10-2018  69300   7380.0  -9090.0  26010.0 -25875.0  -3105.0  14940.0   \n",
       "5  01-11-2018  59580  -9720.0   7380.0  -9090.0  26010.0 -25875.0  -3105.0   \n",
       "6  01-12-2018  57420  -2160.0  -9720.0   7380.0  -9090.0  26010.0 -25875.0   \n",
       "\n",
       "     lag_6    lag_7   lag_8   lag_9  lag_10   lag_11   lag_12  \n",
       "0   5660.0  -3320.0  5940.0 -3780.0 -3239.0 -14581.0  27000.0  \n",
       "1    900.0   5660.0 -3320.0  5940.0 -3780.0  -3239.0 -14581.0  \n",
       "2  -2340.0    900.0  5660.0 -3320.0  5940.0  -3780.0  -3239.0  \n",
       "3    360.0  -2340.0   900.0  5660.0 -3320.0   5940.0  -3780.0  \n",
       "4   -360.0    360.0 -2340.0   900.0  5660.0  -3320.0   5940.0  \n",
       "5  14940.0   -360.0   360.0 -2340.0   900.0   5660.0  -3320.0  \n",
       "6  -3105.0  14940.0  -360.0   360.0 -2340.0    900.0   5660.0  "
      ]
     },
     "execution_count": 102,
     "metadata": {},
     "output_type": "execute_result"
    }
   ],
   "source": [
    "df_supervised.head(7)"
   ]
  },
  {
   "cell_type": "code",
   "execution_count": 103,
   "id": "88289410",
   "metadata": {},
   "outputs": [
    {
     "data": {
      "text/plain": [
       "530569.25587544"
      ]
     },
     "execution_count": 103,
     "metadata": {},
     "output_type": "execute_result"
    }
   ],
   "source": [
    "529117+1452.25587544"
   ]
  },
  {
   "cell_type": "code",
   "execution_count": 104,
   "id": "7d4cc904",
   "metadata": {},
   "outputs": [],
   "source": [
    "#create dataframe that shows the predicted sales\n",
    "\n",
    "result_list = []\n",
    "sales_dates = list(df_supervised.iloc[0:14].date)\n",
    "act_sales = list(df_supervised.iloc[0:14].sales)\n",
    "for index in range(0,len(sales_dates)):\n",
    "    result_dict = {}\n",
    "    #print(pred_train_set_inverted[index][0])\n",
    "    result_dict['pred_value'] = int(pred_train_set_inverted[index][0] + act_sales[index])\n",
    "    result_dict['date'] = sales_dates[index]\n",
    "    result_list.append(result_dict)\n",
    "df_result1 = pd.DataFrame(result_list)"
   ]
  },
  {
   "cell_type": "code",
   "execution_count": 105,
   "id": "d5534f81",
   "metadata": {},
   "outputs": [
    {
     "data": {
      "text/html": [
       "<div>\n",
       "<style scoped>\n",
       "    .dataframe tbody tr th:only-of-type {\n",
       "        vertical-align: middle;\n",
       "    }\n",
       "\n",
       "    .dataframe tbody tr th {\n",
       "        vertical-align: top;\n",
       "    }\n",
       "\n",
       "    .dataframe thead th {\n",
       "        text-align: right;\n",
       "    }\n",
       "</style>\n",
       "<table border=\"1\" class=\"dataframe\">\n",
       "  <thead>\n",
       "    <tr style=\"text-align: right;\">\n",
       "      <th></th>\n",
       "      <th>pred_value</th>\n",
       "      <th>date</th>\n",
       "    </tr>\n",
       "  </thead>\n",
       "  <tbody>\n",
       "    <tr>\n",
       "      <th>0</th>\n",
       "      <td>60217</td>\n",
       "      <td>01-06-2018</td>\n",
       "    </tr>\n",
       "    <tr>\n",
       "      <th>1</th>\n",
       "      <td>33500</td>\n",
       "      <td>01-07-2018</td>\n",
       "    </tr>\n",
       "    <tr>\n",
       "      <th>2</th>\n",
       "      <td>88630</td>\n",
       "      <td>01-08-2018</td>\n",
       "    </tr>\n",
       "    <tr>\n",
       "      <th>3</th>\n",
       "      <td>55717</td>\n",
       "      <td>01-09-2018</td>\n",
       "    </tr>\n",
       "    <tr>\n",
       "      <th>4</th>\n",
       "      <td>76597</td>\n",
       "      <td>01-10-2018</td>\n",
       "    </tr>\n",
       "    <tr>\n",
       "      <th>5</th>\n",
       "      <td>49752</td>\n",
       "      <td>01-11-2018</td>\n",
       "    </tr>\n",
       "    <tr>\n",
       "      <th>6</th>\n",
       "      <td>57743</td>\n",
       "      <td>01-12-2018</td>\n",
       "    </tr>\n",
       "    <tr>\n",
       "      <th>7</th>\n",
       "      <td>112495</td>\n",
       "      <td>01-01-2019</td>\n",
       "    </tr>\n",
       "    <tr>\n",
       "      <th>8</th>\n",
       "      <td>46155</td>\n",
       "      <td>01-02-2019</td>\n",
       "    </tr>\n",
       "    <tr>\n",
       "      <th>9</th>\n",
       "      <td>83203</td>\n",
       "      <td>01-03-2019</td>\n",
       "    </tr>\n",
       "    <tr>\n",
       "      <th>10</th>\n",
       "      <td>51912</td>\n",
       "      <td>01-04-2019</td>\n",
       "    </tr>\n",
       "    <tr>\n",
       "      <th>11</th>\n",
       "      <td>72635</td>\n",
       "      <td>01-05-2019</td>\n",
       "    </tr>\n",
       "    <tr>\n",
       "      <th>12</th>\n",
       "      <td>43154</td>\n",
       "      <td>01-06-2019</td>\n",
       "    </tr>\n",
       "    <tr>\n",
       "      <th>13</th>\n",
       "      <td>99374</td>\n",
       "      <td>01-07-2019</td>\n",
       "    </tr>\n",
       "  </tbody>\n",
       "</table>\n",
       "</div>"
      ],
      "text/plain": [
       "    pred_value        date\n",
       "0        60217  01-06-2018\n",
       "1        33500  01-07-2018\n",
       "2        88630  01-08-2018\n",
       "3        55717  01-09-2018\n",
       "4        76597  01-10-2018\n",
       "5        49752  01-11-2018\n",
       "6        57743  01-12-2018\n",
       "7       112495  01-01-2019\n",
       "8        46155  01-02-2019\n",
       "9        83203  01-03-2019\n",
       "10       51912  01-04-2019\n",
       "11       72635  01-05-2019\n",
       "12       43154  01-06-2019\n",
       "13       99374  01-07-2019"
      ]
     },
     "execution_count": 105,
     "metadata": {},
     "output_type": "execute_result"
    }
   ],
   "source": [
    "df_result1"
   ]
  },
  {
   "cell_type": "markdown",
   "id": "b59088e3",
   "metadata": {},
   "source": [
    "###### sales_dates = list(df_supervised.iloc[0:1].date)\n",
    "sales_dates"
   ]
  },
  {
   "cell_type": "code",
   "execution_count": 106,
   "id": "eb05e0bc",
   "metadata": {},
   "outputs": [
    {
     "data": {
      "text/plain": [
       "[70875]"
      ]
     },
     "execution_count": 106,
     "metadata": {},
     "output_type": "execute_result"
    }
   ],
   "source": [
    "act_sales = list(df_supervised.iloc[0:1].sales)\n",
    "act_sales"
   ]
  },
  {
   "cell_type": "code",
   "execution_count": 108,
   "id": "928ea006",
   "metadata": {},
   "outputs": [],
   "source": [
    "#list(df_sales.iloc[0:41].date)"
   ]
  },
  {
   "cell_type": "code",
   "execution_count": 109,
   "id": "7cedd06e",
   "metadata": {},
   "outputs": [],
   "source": [
    "#list(df_sales.iloc[0:41].sales)"
   ]
  },
  {
   "cell_type": "code",
   "execution_count": 110,
   "id": "b8cb0baf",
   "metadata": {},
   "outputs": [],
   "source": [
    "#df_result1"
   ]
  },
  {
   "cell_type": "code",
   "execution_count": 111,
   "id": "746424c9",
   "metadata": {},
   "outputs": [],
   "source": [
    "#df_sales.iloc[0:41].sales"
   ]
  },
  {
   "cell_type": "code",
   "execution_count": 112,
   "id": "0a387d3e",
   "metadata": {},
   "outputs": [
    {
     "data": {
      "text/plain": [
       "(14, 13)"
      ]
     },
     "execution_count": 112,
     "metadata": {},
     "output_type": "execute_result"
    }
   ],
   "source": [
    "pred_train_set_inverted= pd.DataFrame(pred_train_set_inverted)\n",
    "pred_train_set_inverted.shape"
   ]
  },
  {
   "cell_type": "code",
   "execution_count": 114,
   "id": "9aaa6119",
   "metadata": {},
   "outputs": [
    {
     "name": "stdout",
     "output_type": "stream",
     "text": [
      "Train Score: 65085.35 RMSE\n"
     ]
    }
   ],
   "source": [
    "import math\n",
    "# calculate root mean squared error\n",
    "#trainScore = math.sqrt(mean_squared_error(t, trainPredict[:,0]))\n",
    "#print('Train Score: %.2f RMSE' % (trainScore))\n",
    "\n",
    "from sklearn.metrics import mean_squared_error\n",
    "trainScore = math.sqrt(mean_squared_error(df_supervised.iloc[0:14].sales,pred_train_set_inverted[0]))\n",
    "print('Train Score: %.2f RMSE' % (trainScore))"
   ]
  },
  {
   "cell_type": "code",
   "execution_count": 115,
   "id": "0c6166b4",
   "metadata": {},
   "outputs": [
    {
     "name": "stdout",
     "output_type": "stream",
     "text": [
      "Test Score: 15658.83 RMSE\n"
     ]
    }
   ],
   "source": [
    "\n",
    "\n",
    "testScore = math.sqrt(mean_squared_error(df_sales_pred[-6:].sales,df_sales_pred[-6:].pred_value))\n",
    "print('Test Score: %.2f RMSE' % (testScore))\n",
    "\n"
   ]
  },
  {
   "cell_type": "code",
   "execution_count": 116,
   "id": "4d6435ac",
   "metadata": {},
   "outputs": [
    {
     "data": {
      "text/plain": [
       "[<matplotlib.lines.Line2D at 0x2797b1042b0>]"
      ]
     },
     "execution_count": 116,
     "metadata": {},
     "output_type": "execute_result"
    },
    {
     "data": {
      "image/png": "[encoded data removed]",
      "text/plain": [
       "<Figure size 432x288 with 1 Axes>"
      ]
     },
     "metadata": {
      "needs_background": "light"
     },
     "output_type": "display_data"
    }
   ],
   "source": [
    "plt.plot(df_supervised[\"date\"],df_supervised[\"sales\"])\n",
    "plt.plot( df_result1[\"date\"],df_result1[\"pred_value\"])"
   ]
  },
  {
   "cell_type": "code",
   "execution_count": null,
   "id": "44c1eac1",
   "metadata": {},
   "outputs": [],
   "source": []
  },
  {
   "cell_type": "code",
   "execution_count": null,
   "id": "b1c648ff",
   "metadata": {},
   "outputs": [],
   "source": []
  }
 ],
 "metadata": {
  "kernelspec": {
   "display_name": "Python 3",
   "language": "python",
   "name": "python3"
  },
  "language_info": {
   "codemirror_mode": {
    "name": "ipython",
    "version": 3
   },
   "file_extension": ".py",
   "mimetype": "text/x-python",
   "name": "python",
   "nbconvert_exporter": "python",
   "pygments_lexer": "ipython3",
   "version": "3.8.11"
  }
 },
 "nbformat": 4,
 "nbformat_minor": 5
}
